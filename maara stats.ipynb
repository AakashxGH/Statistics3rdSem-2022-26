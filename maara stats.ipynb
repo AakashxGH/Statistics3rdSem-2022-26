{
 "cells": [
  {
   "cell_type": "code",
   "execution_count": 3,
   "id": "b641516d",
   "metadata": {},
   "outputs": [
    {
     "name": "stdout",
     "output_type": "stream",
     "text": [
      "   Rating scale  Frequency  Lable\n",
      "0            10       1500    7.5\n",
      "1             9        675    NaN\n",
      "2             8        749    NaN\n",
      "3             7        513    NaN\n",
      "4             6        261    NaN\n",
      "5             5        145    NaN\n",
      "6             4         54    NaN\n",
      "7             3         46    NaN\n",
      "8             2         28    NaN\n",
      "9             1        145    NaN\n"
     ]
    }
   ],
   "source": [
    "import pandas as pd\n",
    "df1=pd.read_excel(r\"C:\\Users\\Hi\\OneDrive\\Desktop\\Maara imdb rating.xlsx\")\n",
    "print(df1)"
   ]
  },
  {
   "cell_type": "code",
   "execution_count": 4,
   "id": "087865c0",
   "metadata": {},
   "outputs": [
    {
     "name": "stdout",
     "output_type": "stream",
     "text": [
      "[1500, 675, 749, 513, 261, 145, 54, 46, 28, 145]\n"
     ]
    }
   ],
   "source": [
    "fi = df1[\"Frequency\"].tolist()\n",
    "print(fi)"
   ]
  },
  {
   "cell_type": "code",
   "execution_count": 5,
   "id": "5722e43c",
   "metadata": {},
   "outputs": [
    {
     "name": "stdout",
     "output_type": "stream",
     "text": [
      "[10, 9, 8, 7, 6, 5, 4, 3, 2, 1]\n"
     ]
    }
   ],
   "source": [
    "xi = df1[\"Rating scale\"].tolist()\n",
    "print(xi)"
   ]
  },
  {
   "cell_type": "code",
   "execution_count": 6,
   "id": "c45e77ce",
   "metadata": {},
   "outputs": [
    {
     "name": "stdout",
     "output_type": "stream",
     "text": [
      "[15000, 6075, 5992, 3591, 1566, 725, 216, 138, 56, 145]\n"
     ]
    }
   ],
   "source": [
    "fixi = [i*j for i,j in zip(fi,xi)]\n",
    "print(fixi)"
   ]
  },
  {
   "cell_type": "code",
   "execution_count": 7,
   "id": "d803b279",
   "metadata": {},
   "outputs": [
    {
     "name": "stdout",
     "output_type": "stream",
     "text": [
      "8.139941690962099\n"
     ]
    }
   ],
   "source": [
    "mean=sum(fixi)/sum(fi)\n",
    "print(mean)"
   ]
  },
  {
   "cell_type": "code",
   "execution_count": 8,
   "id": "b0ed3970",
   "metadata": {},
   "outputs": [
    {
     "name": "stdout",
     "output_type": "stream",
     "text": [
      "[28, 46, 54, 145, 145, 261, 513, 675, 749, 1500]\n"
     ]
    }
   ],
   "source": [
    "\n",
    "    sorted_data = sorted(fi)\n",
    "    n = len(sorted_data)\n",
    "    print(sorted_data)\n",
    "\n",
    "    \n",
    "\n",
    "    \n",
    "    "
   ]
  },
  {
   "cell_type": "code",
   "execution_count": null,
   "id": "96e00079",
   "metadata": {},
   "outputs": [],
   "source": []
  },
  {
   "cell_type": "code",
   "execution_count": 9,
   "id": "2429cf40",
   "metadata": {},
   "outputs": [
    {
     "name": "stdout",
     "output_type": "stream",
     "text": [
      "9.0\n"
     ]
    }
   ],
   "source": [
    "values = []\n",
    "for rating, frequency in df1[['Rating scale', 'Frequency']].values:\n",
    "    values.extend([rating] * int(frequency))\n",
    "\n",
    "values.sort()\n",
    "median_index = len(values) // 2\n",
    "median = values[median_index] if len(values) % 2 == 1 else (values[median_index - 1] + values[median_index]) / 2\n",
    "print(median)"
   ]
  },
  {
   "cell_type": "markdown",
   "id": "d825577e",
   "metadata": {},
   "source": [
    "### We observe that the arthimetic mean is considered for rating by IMDB ###"
   ]
  },
  {
   "cell_type": "code",
   "execution_count": null,
   "id": "f8d9771c",
   "metadata": {},
   "outputs": [],
   "source": []
  }
 ],
 "metadata": {
  "kernelspec": {
   "display_name": "Python 3 (ipykernel)",
   "language": "python",
   "name": "python3"
  },
  "language_info": {
   "codemirror_mode": {
    "name": "ipython",
    "version": 3
   },
   "file_extension": ".py",
   "mimetype": "text/x-python",
   "name": "python",
   "nbconvert_exporter": "python",
   "pygments_lexer": "ipython3",
   "version": "3.11.3"
  }
 },
 "nbformat": 4,
 "nbformat_minor": 5
}
