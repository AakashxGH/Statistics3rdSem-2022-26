{
 "cells": [
  {
   "cell_type": "code",
   "execution_count": 1,
   "id": "5d882a30",
   "metadata": {},
   "outputs": [],
   "source": [
    "import pandas as pd\n",
    "\n",
    "org_movie = pd.DataFrame({'Name':['Vikram Vedha', 'Vikram Vedha' , 'Vikram Vedha' , 'Vikram Vedha' , 'Vikram Vedha' , \n",
    "                                  'Vikram Vedha' , 'Vikram Vedha' , 'Vikram Vedha' , 'Vikram Vedha' , 'Vikram Vedha' ], \n",
    "                          'Ratings(xi)':[10,9,8,7,6,5,4,3,2,1], \n",
    "                          'Frequency(fi)':[19000,12000,9200,3700,1200,599,280,179,189,1400]})\n",
    "rmk_movie = pd.DataFrame({'Name':['Vikram Vedha', 'Vikram Vedha' , 'Vikram Vedha' , 'Vikram Vedha' , 'Vikram Vedha' , \n",
    "                                  'Vikram Vedha' , 'Vikram Vedha' , 'Vikram Vedha' , 'Vikram Vedha' , 'Vikram Vedha' ], \n",
    "                          'Ratings(xi)':[10,9,8,7,6,5,4,3,2,1], \n",
    "                          'Frequency(fi)':[7200,2100,3100,2700,1100,604,290,275,428,4500]})"
   ]
  },
  {
   "cell_type": "code",
   "execution_count": 2,
   "id": "057edc8f",
   "metadata": {},
   "outputs": [
    {
     "name": "stdout",
     "output_type": "stream",
     "text": [
      "Original movie dataset\n",
      "\n"
     ]
    },
    {
     "data": {
      "text/html": [
       "<div>\n",
       "<style scoped>\n",
       "    .dataframe tbody tr th:only-of-type {\n",
       "        vertical-align: middle;\n",
       "    }\n",
       "\n",
       "    .dataframe tbody tr th {\n",
       "        vertical-align: top;\n",
       "    }\n",
       "\n",
       "    .dataframe thead th {\n",
       "        text-align: right;\n",
       "    }\n",
       "</style>\n",
       "<table border=\"1\" class=\"dataframe\">\n",
       "  <thead>\n",
       "    <tr style=\"text-align: right;\">\n",
       "      <th></th>\n",
       "      <th>Name</th>\n",
       "      <th>Ratings(xi)</th>\n",
       "      <th>Frequency(fi)</th>\n",
       "    </tr>\n",
       "  </thead>\n",
       "  <tbody>\n",
       "    <tr>\n",
       "      <th>0</th>\n",
       "      <td>Vikram Vedha</td>\n",
       "      <td>10</td>\n",
       "      <td>19000</td>\n",
       "    </tr>\n",
       "    <tr>\n",
       "      <th>1</th>\n",
       "      <td>Vikram Vedha</td>\n",
       "      <td>9</td>\n",
       "      <td>12000</td>\n",
       "    </tr>\n",
       "    <tr>\n",
       "      <th>2</th>\n",
       "      <td>Vikram Vedha</td>\n",
       "      <td>8</td>\n",
       "      <td>9200</td>\n",
       "    </tr>\n",
       "    <tr>\n",
       "      <th>3</th>\n",
       "      <td>Vikram Vedha</td>\n",
       "      <td>7</td>\n",
       "      <td>3700</td>\n",
       "    </tr>\n",
       "    <tr>\n",
       "      <th>4</th>\n",
       "      <td>Vikram Vedha</td>\n",
       "      <td>6</td>\n",
       "      <td>1200</td>\n",
       "    </tr>\n",
       "    <tr>\n",
       "      <th>5</th>\n",
       "      <td>Vikram Vedha</td>\n",
       "      <td>5</td>\n",
       "      <td>599</td>\n",
       "    </tr>\n",
       "    <tr>\n",
       "      <th>6</th>\n",
       "      <td>Vikram Vedha</td>\n",
       "      <td>4</td>\n",
       "      <td>280</td>\n",
       "    </tr>\n",
       "    <tr>\n",
       "      <th>7</th>\n",
       "      <td>Vikram Vedha</td>\n",
       "      <td>3</td>\n",
       "      <td>179</td>\n",
       "    </tr>\n",
       "    <tr>\n",
       "      <th>8</th>\n",
       "      <td>Vikram Vedha</td>\n",
       "      <td>2</td>\n",
       "      <td>189</td>\n",
       "    </tr>\n",
       "    <tr>\n",
       "      <th>9</th>\n",
       "      <td>Vikram Vedha</td>\n",
       "      <td>1</td>\n",
       "      <td>1400</td>\n",
       "    </tr>\n",
       "  </tbody>\n",
       "</table>\n",
       "</div>"
      ],
      "text/plain": [
       "           Name  Ratings(xi)  Frequency(fi)\n",
       "0  Vikram Vedha           10          19000\n",
       "1  Vikram Vedha            9          12000\n",
       "2  Vikram Vedha            8           9200\n",
       "3  Vikram Vedha            7           3700\n",
       "4  Vikram Vedha            6           1200\n",
       "5  Vikram Vedha            5            599\n",
       "6  Vikram Vedha            4            280\n",
       "7  Vikram Vedha            3            179\n",
       "8  Vikram Vedha            2            189\n",
       "9  Vikram Vedha            1           1400"
      ]
     },
     "execution_count": 2,
     "metadata": {},
     "output_type": "execute_result"
    }
   ],
   "source": [
    "print('Original movie dataset\\n')\n",
    "org_movie"
   ]
  },
  {
   "cell_type": "code",
   "execution_count": 3,
   "id": "da13e9f2",
   "metadata": {},
   "outputs": [
    {
     "name": "stdout",
     "output_type": "stream",
     "text": [
      "Remake movie dataset\n",
      "\n"
     ]
    },
    {
     "data": {
      "text/html": [
       "<div>\n",
       "<style scoped>\n",
       "    .dataframe tbody tr th:only-of-type {\n",
       "        vertical-align: middle;\n",
       "    }\n",
       "\n",
       "    .dataframe tbody tr th {\n",
       "        vertical-align: top;\n",
       "    }\n",
       "\n",
       "    .dataframe thead th {\n",
       "        text-align: right;\n",
       "    }\n",
       "</style>\n",
       "<table border=\"1\" class=\"dataframe\">\n",
       "  <thead>\n",
       "    <tr style=\"text-align: right;\">\n",
       "      <th></th>\n",
       "      <th>Name</th>\n",
       "      <th>Ratings(xi)</th>\n",
       "      <th>Frequency(fi)</th>\n",
       "    </tr>\n",
       "  </thead>\n",
       "  <tbody>\n",
       "    <tr>\n",
       "      <th>0</th>\n",
       "      <td>Vikram Vedha</td>\n",
       "      <td>10</td>\n",
       "      <td>7200</td>\n",
       "    </tr>\n",
       "    <tr>\n",
       "      <th>1</th>\n",
       "      <td>Vikram Vedha</td>\n",
       "      <td>9</td>\n",
       "      <td>2100</td>\n",
       "    </tr>\n",
       "    <tr>\n",
       "      <th>2</th>\n",
       "      <td>Vikram Vedha</td>\n",
       "      <td>8</td>\n",
       "      <td>3100</td>\n",
       "    </tr>\n",
       "    <tr>\n",
       "      <th>3</th>\n",
       "      <td>Vikram Vedha</td>\n",
       "      <td>7</td>\n",
       "      <td>2700</td>\n",
       "    </tr>\n",
       "    <tr>\n",
       "      <th>4</th>\n",
       "      <td>Vikram Vedha</td>\n",
       "      <td>6</td>\n",
       "      <td>1100</td>\n",
       "    </tr>\n",
       "    <tr>\n",
       "      <th>5</th>\n",
       "      <td>Vikram Vedha</td>\n",
       "      <td>5</td>\n",
       "      <td>604</td>\n",
       "    </tr>\n",
       "    <tr>\n",
       "      <th>6</th>\n",
       "      <td>Vikram Vedha</td>\n",
       "      <td>4</td>\n",
       "      <td>290</td>\n",
       "    </tr>\n",
       "    <tr>\n",
       "      <th>7</th>\n",
       "      <td>Vikram Vedha</td>\n",
       "      <td>3</td>\n",
       "      <td>275</td>\n",
       "    </tr>\n",
       "    <tr>\n",
       "      <th>8</th>\n",
       "      <td>Vikram Vedha</td>\n",
       "      <td>2</td>\n",
       "      <td>428</td>\n",
       "    </tr>\n",
       "    <tr>\n",
       "      <th>9</th>\n",
       "      <td>Vikram Vedha</td>\n",
       "      <td>1</td>\n",
       "      <td>4500</td>\n",
       "    </tr>\n",
       "  </tbody>\n",
       "</table>\n",
       "</div>"
      ],
      "text/plain": [
       "           Name  Ratings(xi)  Frequency(fi)\n",
       "0  Vikram Vedha           10           7200\n",
       "1  Vikram Vedha            9           2100\n",
       "2  Vikram Vedha            8           3100\n",
       "3  Vikram Vedha            7           2700\n",
       "4  Vikram Vedha            6           1100\n",
       "5  Vikram Vedha            5            604\n",
       "6  Vikram Vedha            4            290\n",
       "7  Vikram Vedha            3            275\n",
       "8  Vikram Vedha            2            428\n",
       "9  Vikram Vedha            1           4500"
      ]
     },
     "execution_count": 3,
     "metadata": {},
     "output_type": "execute_result"
    }
   ],
   "source": [
    "print('Remake movie dataset\\n')\n",
    "rmk_movie"
   ]
  },
  {
   "cell_type": "code",
   "execution_count": 4,
   "id": "358f3566",
   "metadata": {},
   "outputs": [
    {
     "name": "stdout",
     "output_type": "stream",
     "text": [
      "Mean of original movie : 8.610593335706955 \n",
      "Mean of remake movie : 6.797371843745795\n",
      "\n",
      "Median of original movie : 9.0 \n",
      "Median of remake movie : 8.0\n"
     ]
    }
   ],
   "source": [
    "import numpy as np\n",
    "\n",
    "sorted_ratings_org = np.repeat(org_movie['Ratings(xi)'],org_movie['Frequency(fi)'])\n",
    "\n",
    "mean_org=sum(sorted_ratings_org)/(len(sorted_ratings_org))\n",
    "median_org = np.median(sorted_ratings_org)\n",
    "\n",
    "sorted_ratings_rmk = np.repeat(rmk_movie['Ratings(xi)'],rmk_movie['Frequency(fi)'])\n",
    "\n",
    "mean_rmk=sum(sorted_ratings_rmk)/(len(sorted_ratings_rmk))\n",
    "median_rmk = np.median(sorted_ratings_rmk)\n",
    "\n",
    "print('Mean of original movie :',mean_org,'\\nMean of remake movie :',mean_rmk)\n",
    "print('\\nMedian of original movie :',median_org,'\\nMedian of remake movie :',median_rmk)\n",
    "\n",
    "# If the mean is different from the median, it might indicate the presence of outliers.\n",
    "# The mean can be affected by outliers, whereas the median can not be affected by the outliers."
   ]
  },
  {
   "cell_type": "code",
   "execution_count": 5,
   "id": "49250372",
   "metadata": {},
   "outputs": [
    {
     "name": "stdout",
     "output_type": "stream",
     "text": [
      "Standard Deviation of original movie : 1.8783019733022768 \n",
      "Standard Deviation of remake movie : 3.405725342038319\n"
     ]
    }
   ],
   "source": [
    "import statistics\n",
    "\n",
    "std_org = statistics.stdev(sorted_ratings_org)\n",
    "std_rmk = statistics.stdev(sorted_ratings_rmk)\n",
    "\n",
    "print(\"Standard Deviation of original movie :\", std_org,\"\\nStandard Deviation of remake movie :\", std_rmk)\n",
    "\n",
    "# If all the values in the dataset are identical, the standard deviation will be 0.\n",
    "# A positive standard deviation greater than 0 signifies that the data points are spread out from the mean."
   ]
  },
  {
   "cell_type": "code",
   "execution_count": null,
   "id": "e40db319",
   "metadata": {},
   "outputs": [],
   "source": []
  }
 ],
 "metadata": {
  "kernelspec": {
   "display_name": "Python 3 (ipykernel)",
   "language": "python",
   "name": "python3"
  },
  "language_info": {
   "codemirror_mode": {
    "name": "ipython",
    "version": 3
   },
   "file_extension": ".py",
   "mimetype": "text/x-python",
   "name": "python",
   "nbconvert_exporter": "python",
   "pygments_lexer": "ipython3",
   "version": "3.10.9"
  }
 },
 "nbformat": 4,
 "nbformat_minor": 5
}
