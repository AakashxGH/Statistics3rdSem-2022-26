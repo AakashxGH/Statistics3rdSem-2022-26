{
 "cells": [
  {
   "cell_type": "code",
   "execution_count": 1,
   "id": "b90b8e13",
   "metadata": {
    "scrolled": true
   },
   "outputs": [
    {
     "name": "stdout",
     "output_type": "stream",
     "text": [
      "   No of Ratings  frequncy\n",
      "0              1       228\n",
      "1              2        69\n",
      "2              3       114\n",
      "3              4       165\n",
      "4              5       379\n",
      "5              6       858\n",
      "6              7       987\n",
      "7              8       762\n",
      "8              9       413\n",
      "9             10      1600\n"
     ]
    }
   ],
   "source": [
    "import pandas as pd\n",
    "df=pd.read_csv(r\"D:\\Applied stats\\coolie no1.csv\")\n",
    "print(df)"
   ]
  },
  {
   "cell_type": "code",
   "execution_count": 2,
   "id": "b6ba6496",
   "metadata": {},
   "outputs": [
    {
     "name": "stdout",
     "output_type": "stream",
     "text": [
      "[228, 69, 114, 165, 379, 858, 987, 762, 413, 1600]\n"
     ]
    }
   ],
   "source": [
    "fi=df[\"frequncy\"].tolist()\n",
    "print(fi)"
   ]
  },
  {
   "cell_type": "code",
   "execution_count": 3,
   "id": "8783f9fe",
   "metadata": {},
   "outputs": [
    {
     "name": "stdout",
     "output_type": "stream",
     "text": [
      "[1, 2, 3, 4, 5, 6, 7, 8, 9, 10]\n"
     ]
    }
   ],
   "source": [
    "xi=df[\"No of Ratings\"].tolist()\n",
    "print(xi)"
   ]
  },
  {
   "cell_type": "code",
   "execution_count": 4,
   "id": "85d959dc",
   "metadata": {},
   "outputs": [
    {
     "data": {
      "text/plain": [
       "7.378116591928251"
      ]
     },
     "execution_count": 4,
     "metadata": {},
     "output_type": "execute_result"
    }
   ],
   "source": [
    "xi = df['No of Ratings']\n",
    "fi = df['frequncy']\n",
    "fixi = xi*fi\n",
    "\n",
    "mean1 = fixi.sum()/fi.sum()\n",
    "\n",
    "mean1"
   ]
  },
  {
   "cell_type": "code",
   "execution_count": 5,
   "id": "019d6aa2",
   "metadata": {},
   "outputs": [
    {
     "name": "stdout",
     "output_type": "stream",
     "text": [
      "   No of Rating  Frequency\n",
      "0             1      46000\n",
      "1             2       1400\n",
      "2             3        691\n",
      "3             4        531\n",
      "4             5        465\n",
      "5             6        973\n",
      "6             7       2700\n",
      "7             8       2900\n",
      "8             9       2800\n",
      "9            10      15000\n"
     ]
    }
   ],
   "source": [
    "import pandas as pd\n",
    "df=pd.read_csv(r\"D:\\Applied stats\\coolie no 1 remake.csv\")\n",
    "print(df)"
   ]
  },
  {
   "cell_type": "code",
   "execution_count": 6,
   "id": "8f3caa25",
   "metadata": {},
   "outputs": [
    {
     "data": {
      "text/plain": [
       "3.79063435883474"
      ]
     },
     "execution_count": 6,
     "metadata": {},
     "output_type": "execute_result"
    }
   ],
   "source": [
    "xi = df['No of Rating']\n",
    "fi = df['Frequency']\n",
    "fixi = xi*fi\n",
    "\n",
    "mean2 = fixi.sum()/fi.sum()\n",
    "\n",
    "mean2"
   ]
  },
  {
   "cell_type": "code",
   "execution_count": 8,
   "id": "95aac01c",
   "metadata": {},
   "outputs": [
    {
     "data": {
      "text/plain": [
       "<function matplotlib.pyplot.show(close=None, block=None)>"
      ]
     },
     "execution_count": 8,
     "metadata": {},
     "output_type": "execute_result"
    },
    {
     "data": {
      "image/png": "[encoded data removed]",
      "text/plain": [
       "<Figure size 432x288 with 1 Axes>"
      ]
     },
     "metadata": {
      "needs_background": "light"
     },
     "output_type": "display_data"
    }
   ],
   "source": [
    "import matplotlib.pyplot as plt\n",
    "x=[1,2,3,4,5,6,7,8,9,10]\n",
    "y=[46000,1400,691,531,465,973,2700,2900,2800,15000]\n",
    "plt.bar(x,y)\n",
    "degree=30\n",
    "plt.xticks(x,rotation=degree)\n",
    "plt.show"
   ]
  },
  {
   "cell_type": "code",
   "execution_count": 9,
   "id": "8cac84fa",
   "metadata": {},
   "outputs": [
    {
     "data": {
      "text/plain": [
       "<function matplotlib.pyplot.show(close=None, block=None)>"
      ]
     },
     "execution_count": 9,
     "metadata": {},
     "output_type": "execute_result"
    },
    {
     "data": {
      "image/png": "[encoded data removed]",
      "text/plain": [
       "<Figure size 432x288 with 1 Axes>"
      ]
     },
     "metadata": {
      "needs_background": "light"
     },
     "output_type": "display_data"
    }
   ],
   "source": [
    "x=[1,2,3,4,5,6,7,8,9,10]\n",
    "y=[ 228,69,114,165,379,858,987,762,413,1600]\n",
    "plt.bar(x,y)\n",
    "degree=30\n",
    "plt.xticks(x,rotation=degree)\n",
    "plt.show"
   ]
  },
  {
   "cell_type": "code",
   "execution_count": null,
   "id": "c4719e19",
   "metadata": {},
   "outputs": [],
   "source": []
  }
 ],
 "metadata": {
  "kernelspec": {
   "display_name": "Python 3 (ipykernel)",
   "language": "python",
   "name": "python3"
  },
  "language_info": {
   "codemirror_mode": {
    "name": "ipython",
    "version": 3
   },
   "file_extension": ".py",
   "mimetype": "text/x-python",
   "name": "python",
   "nbconvert_exporter": "python",
   "pygments_lexer": "ipython3",
   "version": "3.9.12"
  }
 },
 "nbformat": 4,
 "nbformat_minor": 5
}
