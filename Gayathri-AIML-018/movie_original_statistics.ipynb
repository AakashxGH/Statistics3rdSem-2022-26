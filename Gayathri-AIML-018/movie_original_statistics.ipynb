{
 "cells": [
  {
   "cell_type": "code",
   "execution_count": 1,
   "id": "5d4619ed",
   "metadata": {},
   "outputs": [
    {
     "name": "stdout",
     "output_type": "stream",
     "text": [
      "   SCALE  FREQUENCY  IMDb\n",
      "0     10      19000   8.2\n",
      "1      9      12000   NaN\n",
      "2      8       9200   NaN\n",
      "3      7       3700   NaN\n",
      "4      6       1200   NaN\n",
      "5      5        599   NaN\n",
      "6      4        280   NaN\n",
      "7      3        179   NaN\n",
      "8      2        189   NaN\n",
      "9      1       1400   NaN\n"
     ]
    }
   ],
   "source": [
    "import pandas as pd\n",
    "\n",
    "org_mov=pd.read_excel(r\"C:\\Users\\gayat\\Documents\\Python_Datasets\\Movie(org).xlsx\")\n",
    "print(org_mov)"
   ]
  },
  {
   "cell_type": "code",
   "execution_count": 2,
   "id": "597feaa1",
   "metadata": {},
   "outputs": [
    {
     "name": "stdout",
     "output_type": "stream",
     "text": [
      "The Total Number of Voters are: 47747\n"
     ]
    }
   ],
   "source": [
    "f=org_mov['FREQUENCY']\n",
    "total_fr=sum(f)\n",
    "print(\"The Total Number of Voters are:\",total_fr)"
   ]
  },
  {
   "cell_type": "code",
   "execution_count": 3,
   "id": "5c101508",
   "metadata": {},
   "outputs": [
    {
     "name": "stdout",
     "output_type": "stream",
     "text": [
      "[19000, 12000, 9200, 3700, 1200, 599, 280, 179, 189, 1400]\n",
      "[10, 9, 8, 7, 6, 5, 4, 3, 2, 1]\n"
     ]
    }
   ],
   "source": [
    "fi=list(f)\n",
    "xi=list(org_mov['SCALE'])\n",
    "print(fi)\n",
    "print(xi)"
   ]
  },
  {
   "cell_type": "code",
   "execution_count": 4,
   "id": "c227f28e",
   "metadata": {},
   "outputs": [
    {
     "name": "stdout",
     "output_type": "stream",
     "text": [
      "[190000, 108000, 73600, 25900, 7200, 2995, 1120, 537, 378, 1400]\n"
     ]
    }
   ],
   "source": [
    "fixi=[]\n",
    "\n",
    "for i in range(len(fi)):\n",
    "    fx=(fi[i]*xi[i])\n",
    "    fixi.append(fx)\n",
    "\n",
    "print(fixi)"
   ]
  },
  {
   "cell_type": "code",
   "execution_count": 5,
   "id": "24dd6e5f",
   "metadata": {},
   "outputs": [
    {
     "name": "stdout",
     "output_type": "stream",
     "text": [
      "Our Calculated Mean: 8.610593335706955\n"
     ]
    }
   ],
   "source": [
    "mean=(sum(fixi)/total_fr)\n",
    "print(\"Our Calculated Mean:\",mean)"
   ]
  },
  {
   "cell_type": "code",
   "execution_count": 6,
   "id": "dab4e9f6",
   "metadata": {},
   "outputs": [
    {
     "name": "stdout",
     "output_type": "stream",
     "text": [
      "[179, 189, 280, 599, 1200, 1400, 3700, 9200, 12000, 19000]\n"
     ]
    }
   ],
   "source": [
    "sfi=sorted(fi)\n",
    "print(sfi)"
   ]
  },
  {
   "cell_type": "code",
   "execution_count": 7,
   "id": "98450a90",
   "metadata": {},
   "outputs": [
    {
     "name": "stdout",
     "output_type": "stream",
     "text": [
      "6450.0\n"
     ]
    }
   ],
   "source": [
    "\n",
    "    n=len(sfi)\n",
    "    if n%2==0:\n",
    "        m1=int(n/2)\n",
    "        m2=int(m1+1)\n",
    "        median=(sfi[m1+1]+sfi[m2+1])/2\n",
    "    else:\n",
    "        m=int((n+1)/2)\n",
    "        median=sfi[m+1]\n",
    "        \n",
    "    print(median)"
   ]
  },
  {
   "cell_type": "code",
   "execution_count": 21,
   "id": "7eb10495",
   "metadata": {},
   "outputs": [],
   "source": [
    "\n",
    "#for i in sfi:\n",
    "    #if i<10:\n",
    "        #if median>=sfi[i] and median<=sfi[i+1]:\n",
    "            #flag=i+1\n",
    "#print(\"Calculated Median is:\",flag)"
   ]
  },
  {
   "cell_type": "markdown",
   "id": "68039add",
   "metadata": {},
   "source": []
  },
  {
   "cell_type": "code",
   "execution_count": 20,
   "id": "3323cd97",
   "metadata": {},
   "outputs": [
    {
     "name": "stdout",
     "output_type": "stream",
     "text": [
      "9\n"
     ]
    }
   ],
   "source": [
    "#Alternate code for median\n",
    "values=[]\n",
    "for rating,frequency in org_mov[['SCALE','FREQUENCY']].values:\n",
    "    values.extend([rating]*int(frequency))\n",
    "values.sort()\n",
    "median_index=len(values)//2\n",
    "median=values[median_index] if len(values)%2==1 else(values[median_index-1]+values[median_index])/2\n",
    "print(median)"
   ]
  },
  {
   "cell_type": "code",
   "execution_count": null,
   "id": "778b162a",
   "metadata": {},
   "outputs": [],
   "source": []
  }
 ],
 "metadata": {
  "kernelspec": {
   "display_name": "Python 3 (ipykernel)",
   "language": "python",
   "name": "python3"
  },
  "language_info": {
   "codemirror_mode": {
    "name": "ipython",
    "version": 3
   },
   "file_extension": ".py",
   "mimetype": "text/x-python",
   "name": "python",
   "nbconvert_exporter": "python",
   "pygments_lexer": "ipython3",
   "version": "3.9.13"
  }
 },
 "nbformat": 4,
 "nbformat_minor": 5
}
