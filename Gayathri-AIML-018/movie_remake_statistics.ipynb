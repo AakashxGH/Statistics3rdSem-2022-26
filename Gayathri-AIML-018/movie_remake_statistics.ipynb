{
 "cells": [
  {
   "cell_type": "code",
   "execution_count": 1,
   "id": "64feb6aa",
   "metadata": {},
   "outputs": [
    {
     "name": "stdout",
     "output_type": "stream",
     "text": [
      "   SCALE  FREQUENCY  IMDb\n",
      "0     10       7200   7.1\n",
      "1      9       2100   NaN\n",
      "2      8       3100   NaN\n",
      "3      7       2700   NaN\n",
      "4      6       1100   NaN\n",
      "5      5        603   NaN\n",
      "6      4        290   NaN\n",
      "7      3        275   NaN\n",
      "8      2        428   NaN\n",
      "9      1       4500   NaN\n"
     ]
    }
   ],
   "source": [
    "import pandas as pd\n",
    "rem_mov=pd.read_excel(r\"C:\\Users\\gayat\\Documents\\Python_Datasets\\Movie(remake).xlsx\")\n",
    "print(rem_mov)"
   ]
  },
  {
   "cell_type": "code",
   "execution_count": 2,
   "id": "692afd38",
   "metadata": {},
   "outputs": [
    {
     "name": "stdout",
     "output_type": "stream",
     "text": [
      "The Total Number of Voters are: 22296\n"
     ]
    }
   ],
   "source": [
    "f=rem_mov['FREQUENCY']\n",
    "total_fr=sum(f)\n",
    "print(\"The Total Number of Voters are:\",total_fr)"
   ]
  },
  {
   "cell_type": "code",
   "execution_count": 3,
   "id": "a053e3a1",
   "metadata": {},
   "outputs": [
    {
     "name": "stdout",
     "output_type": "stream",
     "text": [
      "[7200, 2100, 3100, 2700, 1100, 603, 290, 275, 428, 4500]\n",
      "[10, 9, 8, 7, 6, 5, 4, 3, 2, 1]\n"
     ]
    }
   ],
   "source": [
    "fi=list(f)\n",
    "xi=list(rem_mov['SCALE'])\n",
    "print(fi)\n",
    "print(xi)"
   ]
  },
  {
   "cell_type": "code",
   "execution_count": 4,
   "id": "ab91f084",
   "metadata": {},
   "outputs": [
    {
     "name": "stdout",
     "output_type": "stream",
     "text": [
      "[72000, 18900, 24800, 18900, 6600, 3015, 1160, 825, 856, 4500]\n"
     ]
    }
   ],
   "source": [
    "fixi=[]\n",
    "\n",
    "for i in range(len(fi)):\n",
    "    fx=(fi[i]*xi[i])\n",
    "    fixi.append(fx)\n",
    "\n",
    "print(fixi)"
   ]
  },
  {
   "cell_type": "code",
   "execution_count": 5,
   "id": "2ec77178",
   "metadata": {},
   "outputs": [
    {
     "name": "stdout",
     "output_type": "stream",
     "text": [
      "Our Calculated Mean: 6.797452457839971\n"
     ]
    }
   ],
   "source": [
    "mean=(sum(fixi)/total_fr)\n",
    "print(\"Our Calculated Mean:\",mean)"
   ]
  },
  {
   "cell_type": "code",
   "execution_count": 6,
   "id": "b9777b4f",
   "metadata": {},
   "outputs": [
    {
     "name": "stdout",
     "output_type": "stream",
     "text": [
      "[275, 290, 428, 603, 1100, 2100, 2700, 3100, 4500, 7200]\n"
     ]
    }
   ],
   "source": [
    "sfi=sorted(fi)\n",
    "print(sfi)"
   ]
  },
  {
   "cell_type": "code",
   "execution_count": 7,
   "id": "4206cd79",
   "metadata": {},
   "outputs": [
    {
     "name": "stdout",
     "output_type": "stream",
     "text": [
      "2900.0\n"
     ]
    }
   ],
   "source": [
    "n=len(sfi)\n",
    "if n%2==0:\n",
    "        m1=int(n/2)\n",
    "        m2=int(m1+1)\n",
    "        median=(sfi[m1+1]+sfi[m2+1])/2\n",
    "else:\n",
    "        m=int((n+1)/2)\n",
    "        median=sfi[m+1]\n",
    "        \n",
    "print(median)"
   ]
  },
  {
   "cell_type": "code",
   "execution_count": 23,
   "id": "efe834ce",
   "metadata": {},
   "outputs": [
    {
     "name": "stdout",
     "output_type": "stream",
     "text": [
      "8.0\n"
     ]
    }
   ],
   "source": [
    "#Alternate code for median\n",
    "values=[]\n",
    "for rating,frequency in rem_mov[['SCALE','FREQUENCY']].values:\n",
    "    values.extend([rating]*int(frequency))\n",
    "values.sort()\n",
    "median_index=len(values)//2\n",
    "median=values[median_index] if len(values)%2==1 else(values[median_index-1]+values[median_index])/2\n",
    "print(median)\n"
   ]
  },
  {
   "cell_type": "code",
   "execution_count": 24,
   "id": "8d9fa7b9",
   "metadata": {},
   "outputs": [],
   "source": [
    "#for i in sfi:\n",
    "    #if i<10:\n",
    "        #if median>=sfi[i] and median<=sfi[i+1]:\n",
    "            #flag=(i+1)\n",
    "#print(\"Calculated Median is:\",flag)"
   ]
  },
  {
   "cell_type": "code",
   "execution_count": null,
   "id": "b4a9f4a3",
   "metadata": {},
   "outputs": [],
   "source": []
  }
 ],
 "metadata": {
  "kernelspec": {
   "display_name": "Python 3 (ipykernel)",
   "language": "python",
   "name": "python3"
  },
  "language_info": {
   "codemirror_mode": {
    "name": "ipython",
    "version": 3
   },
   "file_extension": ".py",
   "mimetype": "text/x-python",
   "name": "python",
   "nbconvert_exporter": "python",
   "pygments_lexer": "ipython3",
   "version": "3.9.13"
  }
 },
 "nbformat": 4,
 "nbformat_minor": 5
}
