{
 "cells": [
  {
   "cell_type": "code",
   "execution_count": 1,
   "id": "4aba396f",
   "metadata": {},
   "outputs": [
    {
     "name": "stdout",
     "output_type": "stream",
     "text": [
      "   Rating  Frequency\n",
      "0      10      11000\n",
      "1       9       5000\n",
      "2       8       4500\n",
      "3       7       2400\n",
      "4       6       1000\n",
      "5       5        622\n",
      "6       4        321\n",
      "7       3        228\n",
      "8       2        248\n",
      "9       1       1500\n"
     ]
    }
   ],
   "source": [
    "import pandas as pd\n",
    "df1=pd.read_csv(r\"C:\\Users\\Srijita Kashyap\\OneDrive\\Desktop\\A reddy original.csv\")\n",
    "print(df1)"
   ]
  },
  {
   "cell_type": "code",
   "execution_count": 2,
   "id": "a3345db3",
   "metadata": {},
   "outputs": [
    {
     "name": "stdout",
     "output_type": "stream",
     "text": [
      "[11000, 5000, 4500, 2400, 1000, 622, 321, 228, 248, 1500]\n"
     ]
    }
   ],
   "source": [
    "fi = df1[\"Frequency\"].tolist()\n",
    "print(fi)"
   ]
  },
  {
   "cell_type": "code",
   "execution_count": 3,
   "id": "c9f43500",
   "metadata": {},
   "outputs": [
    {
     "name": "stdout",
     "output_type": "stream",
     "text": [
      "[10, 9, 8, 7, 6, 5, 4, 3, 2, 1]\n"
     ]
    }
   ],
   "source": [
    "xi = df1[\"Rating\"].tolist()\n",
    "print(xi)"
   ]
  },
  {
   "cell_type": "code",
   "execution_count": 4,
   "id": "dbff6173",
   "metadata": {},
   "outputs": [
    {
     "name": "stdout",
     "output_type": "stream",
     "text": [
      "[110000, 45000, 36000, 16800, 6000, 3110, 1284, 684, 496, 1500]\n"
     ]
    }
   ],
   "source": [
    "fixi = [i*j for i,j in zip(fi,xi)]\n",
    "print(fixi)"
   ]
  },
  {
   "cell_type": "code",
   "execution_count": 5,
   "id": "7b2b612c",
   "metadata": {},
   "outputs": [
    {
     "name": "stdout",
     "output_type": "stream",
     "text": [
      "8.235728401506394\n"
     ]
    }
   ],
   "source": [
    "mean=sum(fixi)/sum(fi)\n",
    "print(mean)"
   ]
  },
  {
   "cell_type": "code",
   "execution_count": 6,
   "id": "fa6c8d10",
   "metadata": {},
   "outputs": [
    {
     "name": "stdout",
     "output_type": "stream",
     "text": [
      "[228, 248, 321, 622, 1000, 1500, 2400, 4500, 5000, 11000]\n"
     ]
    }
   ],
   "source": [
    "sortdata = sorted(fi)\n",
    "n = len(sortdata)\n",
    "print(sortdata)"
   ]
  },
  {
   "cell_type": "code",
   "execution_count": 8,
   "id": "5716ee18",
   "metadata": {},
   "outputs": [
    {
     "name": "stdout",
     "output_type": "stream",
     "text": [
      "3450.0\n"
     ]
    }
   ],
   "source": [
    "if n % 2 == 0:\n",
    "    mid1 = n // 2\n",
    "    mid2 = mid1 + 1\n",
    "    med = (sortdata[mid1+1]/2 + sortdata[mid2+1]/2)\n",
    "else:\n",
    "    mid = n // 2\n",
    "    med = sortdata[mid]\n",
    "print(med)    \n",
    "    \n",
    "                    "
   ]
  },
  {
   "cell_type": "code",
   "execution_count": 20,
   "id": "aae84c51",
   "metadata": {},
   "outputs": [
    {
     "name": "stdout",
     "output_type": "stream",
     "text": [
      "   Rating  Frequency\n",
      "0      10      11000\n",
      "1       9       4700\n",
      "2       8       5900\n",
      "3       7       5100\n",
      "4       6       2800\n",
      "5       5       1600\n",
      "6       4        896\n",
      "7       3        621\n",
      "8       2        721\n",
      "9       1       3600\n"
     ]
    }
   ],
   "source": [
    "import pandas as pd\n",
    "df2=pd.read_csv(r\"C:\\Users\\Srijita Kashyap\\OneDrive\\Desktop\\kabir singh remake 2.csv\")\n",
    "print(df2)"
   ]
  },
  {
   "cell_type": "code",
   "execution_count": 21,
   "id": "0f179c58",
   "metadata": {},
   "outputs": [
    {
     "name": "stdout",
     "output_type": "stream",
     "text": [
      "[11000, 4700, 5900, 5100, 2800, 1600, 896, 621, 721, 3600]\n"
     ]
    }
   ],
   "source": [
    "fi = df2[\"Frequency\"].tolist()\n",
    "print(fi)"
   ]
  },
  {
   "cell_type": "code",
   "execution_count": 22,
   "id": "a0f470ec",
   "metadata": {},
   "outputs": [
    {
     "name": "stdout",
     "output_type": "stream",
     "text": [
      "[10, 9, 8, 7, 6, 5, 4, 3, 2, 1]\n"
     ]
    }
   ],
   "source": [
    "xi = df2[\"Rating\"].tolist()\n",
    "print(xi)"
   ]
  },
  {
   "cell_type": "code",
   "execution_count": 23,
   "id": "c3b9042b",
   "metadata": {},
   "outputs": [
    {
     "name": "stdout",
     "output_type": "stream",
     "text": [
      "[110000, 42300, 47200, 35700, 16800, 8000, 3584, 1863, 1442, 3600]\n"
     ]
    }
   ],
   "source": [
    "fixi = [i*j for i,j in zip(fi,xi)]\n",
    "print(fixi)"
   ]
  },
  {
   "cell_type": "code",
   "execution_count": 24,
   "id": "cba50765",
   "metadata": {},
   "outputs": [
    {
     "name": "stdout",
     "output_type": "stream",
     "text": [
      "7.32278412474958\n"
     ]
    }
   ],
   "source": [
    "mean=sum(fixi)/sum(fi)\n",
    "print(mean)"
   ]
  },
  {
   "cell_type": "code",
   "execution_count": 25,
   "id": "ac954dd4",
   "metadata": {},
   "outputs": [
    {
     "name": "stdout",
     "output_type": "stream",
     "text": [
      "[621, 721, 896, 1600, 2800, 3600, 4700, 5100, 5900, 11000]\n"
     ]
    }
   ],
   "source": [
    "sortdata = sorted(fi)\n",
    "n = len(sortdata)\n",
    "print(sortdata)"
   ]
  },
  {
   "cell_type": "code",
   "execution_count": 26,
   "id": "24006b00",
   "metadata": {},
   "outputs": [
    {
     "name": "stdout",
     "output_type": "stream",
     "text": [
      "4900.0\n"
     ]
    }
   ],
   "source": [
    "if n % 2 == 0:\n",
    "    mid1 = n // 2\n",
    "    mid2 = mid1 + 1\n",
    "    med = (sortdata[mid1+1]/2 + sortdata[mid2+1]/2)\n",
    "else:\n",
    "    mid = n // 2\n",
    "    med = sortdata[mid]\n",
    "print(med)    \n",
    "    "
   ]
  },
  {
   "cell_type": "code",
   "execution_count": null,
   "id": "5f0273be",
   "metadata": {},
   "outputs": [],
   "source": []
  }
 ],
 "metadata": {
  "kernelspec": {
   "display_name": "Python 3 (ipykernel)",
   "language": "python",
   "name": "python3"
  },
  "language_info": {
   "codemirror_mode": {
    "name": "ipython",
    "version": 3
   },
   "file_extension": ".py",
   "mimetype": "text/x-python",
   "name": "python",
   "nbconvert_exporter": "python",
   "pygments_lexer": "ipython3",
   "version": "3.10.9"
  }
 },
 "nbformat": 4,
 "nbformat_minor": 5
}
