{
 "cells": [
  {
   "cell_type": "code",
   "execution_count": 2,
   "id": "c76167d7",
   "metadata": {},
   "outputs": [
    {
     "name": "stdout",
     "output_type": "stream",
     "text": [
      "   Rating  Frequency\n",
      "0       1       3200\n",
      "1       2        608\n",
      "2       3        516\n",
      "3       4        755\n",
      "4       5       1500\n",
      "5       6       2900\n",
      "6       7       8300\n",
      "7       8      20000\n",
      "8       9      23000\n",
      "9      10      29000\n"
     ]
    }
   ],
   "source": [
    "import pandas as pd\n",
    "df= pd.read_csv(r\"C:\\Users\\91879\\OneDrive\\Desktop\\Jupyter\\IMDB Rating\\D2.csv\")\n",
    "print(df)"
   ]
  },
  {
   "cell_type": "code",
   "execution_count": 3,
   "id": "56bb76b1",
   "metadata": {},
   "outputs": [
    {
     "name": "stdout",
     "output_type": "stream",
     "text": [
      "[3200, 608, 516, 755, 1500, 2900, 8300, 20000, 23000, 29000]\n"
     ]
    }
   ],
   "source": [
    "fi = df[\"Frequency\"].tolist()\n",
    "print(fi)"
   ]
  },
  {
   "cell_type": "code",
   "execution_count": 4,
   "id": "1b0c611a",
   "metadata": {},
   "outputs": [
    {
     "name": "stdout",
     "output_type": "stream",
     "text": [
      "[1, 2, 3, 4, 5, 6, 7, 8, 9, 10]\n"
     ]
    }
   ],
   "source": [
    "xi = df[\"Rating\"].tolist()\n",
    "print(xi)"
   ]
  },
  {
   "cell_type": "code",
   "execution_count": 5,
   "id": "56ade2cb",
   "metadata": {},
   "outputs": [
    {
     "name": "stdout",
     "output_type": "stream",
     "text": [
      "[3200, 1216, 1548, 3020, 7500, 17400, 58100, 160000, 207000, 290000]\n"
     ]
    }
   ],
   "source": [
    "fixi = [i*j for i,j in zip(fi,xi)]\n",
    "print(fixi)"
   ]
  },
  {
   "cell_type": "code",
   "execution_count": 13,
   "id": "2e794c8d",
   "metadata": {},
   "outputs": [
    {
     "name": "stdout",
     "output_type": "stream",
     "text": [
      "8.342529990309538\n"
     ]
    },
    {
     "data": {
      "text/plain": [
       "[<matplotlib.lines.Line2D at 0x21c1131fb90>]"
      ]
     },
     "execution_count": 13,
     "metadata": {},
     "output_type": "execute_result"
    },
    {
     "data": {
      "image/png": "[encoded data removed]",
      "text/plain": [
       "<Figure size 640x480 with 1 Axes>"
      ]
     },
     "metadata": {},
     "output_type": "display_data"
    }
   ],
   "source": [
    "mean=sum(fixi)/sum(fi)\n",
    "print(mean)\n",
    "\n",
    "import matplotlib.pyplot as plt\n",
    "\n",
    "plt.plot([mean]*100)\n"
   ]
  },
  {
   "cell_type": "code",
   "execution_count": 7,
   "id": "f1060e54",
   "metadata": {},
   "outputs": [
    {
     "name": "stdout",
     "output_type": "stream",
     "text": [
      "[516, 608, 755, 1500, 2900, 3200, 8300, 20000, 23000, 29000]\n"
     ]
    }
   ],
   "source": [
    "sorted_data = sorted(fi)\n",
    "n = len(sorted_data)\n",
    "print(sorted_data)"
   ]
  },
  {
   "cell_type": "code",
   "execution_count": 9,
   "id": "5cf42321",
   "metadata": {},
   "outputs": [],
   "source": [
    "values = []\n",
    "for rating, frequency in df[['Rating', 'Frequency']].values:\n",
    "    values.extend([rating] * int(frequency))\n",
    "\n",
    "values.sort()\n",
    "median_index = len(values) // 2\n",
    "median = values[median_index] if len(values) % 2 == 1 else (values[median_index - 1] + values[median_index]) / 2"
   ]
  },
  {
   "cell_type": "code",
   "execution_count": 10,
   "id": "5899caa7",
   "metadata": {},
   "outputs": [
    {
     "data": {
      "text/plain": [
       "9"
      ]
     },
     "execution_count": 10,
     "metadata": {},
     "output_type": "execute_result"
    }
   ],
   "source": [
    "median"
   ]
  },
  {
   "cell_type": "code",
   "execution_count": null,
   "id": "7906adc4",
   "metadata": {},
   "outputs": [],
   "source": []
  }
 ],
 "metadata": {
  "kernelspec": {
   "display_name": "Python 3 (ipykernel)",
   "language": "python",
   "name": "python3"
  },
  "language_info": {
   "codemirror_mode": {
    "name": "ipython",
    "version": 3
   },
   "file_extension": ".py",
   "mimetype": "text/x-python",
   "name": "python",
   "nbconvert_exporter": "python",
   "pygments_lexer": "ipython3",
   "version": "3.11.2"
  }
 },
 "nbformat": 4,
 "nbformat_minor": 5
}
