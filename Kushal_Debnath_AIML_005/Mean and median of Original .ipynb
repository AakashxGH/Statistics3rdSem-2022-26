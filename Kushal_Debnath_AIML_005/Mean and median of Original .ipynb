{
 "cells": [
  {
   "cell_type": "code",
   "execution_count": 2,
   "id": "d80fa402",
   "metadata": {},
   "outputs": [
    {
     "name": "stdout",
     "output_type": "stream",
     "text": [
      "   Rating  Frequency\n",
      "0       1       2500\n",
      "1       2        266\n",
      "2       3        242\n",
      "3       4        319\n",
      "4       5        531\n",
      "5       6        981\n",
      "6       7       2500\n",
      "7       8       7200\n",
      "8       9      11000\n",
      "9      10      17000\n"
     ]
    }
   ],
   "source": [
    "import pandas as pd\n",
    "df= pd.read_csv(r\"C:\\Users\\91879\\OneDrive\\Desktop\\Jupyter\\IMDB Rating\\D1.csv\")\n",
    "print(df)"
   ]
  },
  {
   "cell_type": "code",
   "execution_count": 3,
   "id": "534bab16",
   "metadata": {},
   "outputs": [
    {
     "name": "stdout",
     "output_type": "stream",
     "text": [
      "[2500, 266, 242, 319, 531, 981, 2500, 7200, 11000, 17000]\n"
     ]
    }
   ],
   "source": [
    "fi = df[\"Frequency\"].tolist()\n",
    "print(fi)"
   ]
  },
  {
   "cell_type": "code",
   "execution_count": 4,
   "id": "1f7de805",
   "metadata": {},
   "outputs": [
    {
     "name": "stdout",
     "output_type": "stream",
     "text": [
      "[1, 2, 3, 4, 5, 6, 7, 8, 9, 10]\n"
     ]
    }
   ],
   "source": [
    "xi = df[\"Rating\"].tolist()\n",
    "print(xi)"
   ]
  },
  {
   "cell_type": "code",
   "execution_count": 5,
   "id": "0f7b7028",
   "metadata": {},
   "outputs": [
    {
     "name": "stdout",
     "output_type": "stream",
     "text": [
      "[2500, 532, 726, 1276, 2655, 5886, 17500, 57600, 99000, 170000]\n"
     ]
    }
   ],
   "source": [
    "fixi = [i*j for i,j in zip(fi,xi)]\n",
    "print(fixi)"
   ]
  },
  {
   "cell_type": "code",
   "execution_count": 6,
   "id": "5d441b53",
   "metadata": {},
   "outputs": [
    {
     "name": "stdout",
     "output_type": "stream",
     "text": [
      "8.40816662356896\n"
     ]
    }
   ],
   "source": [
    "mean=sum(fixi)/sum(fi)\n",
    "print(mean)"
   ]
  },
  {
   "cell_type": "code",
   "execution_count": 7,
   "id": "596ef5cd",
   "metadata": {},
   "outputs": [
    {
     "name": "stdout",
     "output_type": "stream",
     "text": [
      "[242, 266, 319, 531, 981, 2500, 2500, 7200, 11000, 17000]\n"
     ]
    }
   ],
   "source": [
    "sorted_data = sorted(fi)\n",
    "n = len(sorted_data)\n",
    "print(sorted_data)"
   ]
  },
  {
   "cell_type": "code",
   "execution_count": 8,
   "id": "b9eac541",
   "metadata": {},
   "outputs": [],
   "source": [
    "values = []\n",
    "for rating, frequency in df[['Rating', 'Frequency']].values:\n",
    "    values.extend([rating] * int(frequency))\n",
    "\n",
    "values.sort()\n",
    "median_index = len(values) // 2\n",
    "median = values[median_index] if len(values) % 2 == 1 else (values[median_index - 1] + values[median_index]) / 2"
   ]
  },
  {
   "cell_type": "code",
   "execution_count": 9,
   "id": "442e78aa",
   "metadata": {},
   "outputs": [
    {
     "name": "stdout",
     "output_type": "stream",
     "text": [
      "9\n"
     ]
    }
   ],
   "source": [
    "print(median)"
   ]
  },
  {
   "cell_type": "markdown",
   "id": "7ea4dfdc",
   "metadata": {},
   "source": []
  }
 ],
 "metadata": {
  "kernelspec": {
   "display_name": "Python 3 (ipykernel)",
   "language": "python",
   "name": "python3"
  },
  "language_info": {
   "codemirror_mode": {
    "name": "ipython",
    "version": 3
   },
   "file_extension": ".py",
   "mimetype": "text/x-python",
   "name": "python",
   "nbconvert_exporter": "python",
   "pygments_lexer": "ipython3",
   "version": "3.11.2"
  }
 },
 "nbformat": 4,
 "nbformat_minor": 5
}
