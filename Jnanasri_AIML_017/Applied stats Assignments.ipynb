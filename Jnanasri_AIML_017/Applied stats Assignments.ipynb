{
 "cells": [
  {
   "cell_type": "code",
   "execution_count": 1,
   "id": "039b5394",
   "metadata": {},
   "outputs": [
    {
     "name": "stdout",
     "output_type": "stream",
     "text": [
      "   Rating scale  Frequency  Lable\n",
      "0            10       3900    8.0\n",
      "1             9       2400    NaN\n",
      "2             8       2800    NaN\n",
      "3             7       1700    NaN\n",
      "4             6        580    NaN\n",
      "5             5        262    NaN\n",
      "6             4         87    NaN\n",
      "7             3         59    NaN\n",
      "8             2         60    NaN\n",
      "9             1        243    NaN\n"
     ]
    }
   ],
   "source": [
    "import pandas as pd\n",
    "df=pd.read_excel(r\"C:\\Users\\Hi\\OneDrive\\Desktop\\Charlie mve rating.xlsx\")\n",
    "print(df)\n"
   ]
  },
  {
   "cell_type": "code",
   "execution_count": 2,
   "id": "fc46c4aa",
   "metadata": {},
   "outputs": [
    {
     "name": "stdout",
     "output_type": "stream",
     "text": [
      "[3900, 2400, 2800, 1700, 580, 262, 87, 59, 60, 243]\n"
     ]
    }
   ],
   "source": [
    "fi = df[\"Frequency\"].tolist()\n",
    "print(fi)"
   ]
  },
  {
   "cell_type": "code",
   "execution_count": 5,
   "id": "ad5fbdcc",
   "metadata": {},
   "outputs": [
    {
     "name": "stdout",
     "output_type": "stream",
     "text": [
      "[10, 9, 8, 7, 6, 5, 4, 3, 2, 1]\n"
     ]
    }
   ],
   "source": [
    "xi = df[\"Rating scale\"].tolist()\n",
    "print(xi)\n",
    "\n"
   ]
  },
  {
   "cell_type": "code",
   "execution_count": 6,
   "id": "3976cf91",
   "metadata": {},
   "outputs": [
    {
     "name": "stdout",
     "output_type": "stream",
     "text": [
      "[39000, 21600, 22400, 11900, 3480, 1310, 348, 177, 120, 243]\n"
     ]
    }
   ],
   "source": [
    "fixi = [i*j for i,j in zip(fi,xi)]\n",
    "print(fixi)"
   ]
  },
  {
   "cell_type": "code",
   "execution_count": 7,
   "id": "cc1886f8",
   "metadata": {},
   "outputs": [
    {
     "name": "stdout",
     "output_type": "stream",
     "text": [
      "8.318418658506326\n"
     ]
    }
   ],
   "source": [
    "mean=sum(fixi)/sum(fi)\n",
    "print(mean)"
   ]
  },
  {
   "cell_type": "code",
   "execution_count": 8,
   "id": "b86f215f",
   "metadata": {},
   "outputs": [
    {
     "name": "stdout",
     "output_type": "stream",
     "text": [
      "12091\n"
     ]
    }
   ],
   "source": [
    "sm=sum(fi)\n",
    "print(sm)"
   ]
  },
  {
   "cell_type": "code",
   "execution_count": 22,
   "id": "841d91b9",
   "metadata": {},
   "outputs": [
    {
     "name": "stdout",
     "output_type": "stream",
     "text": [
      "[59, 60, 87, 243, 262, 580, 1700, 2400, 2800, 3900]\n"
     ]
    }
   ],
   "source": [
    "\n",
    "    sorted_data = sorted(fi)\n",
    "    n = len(sorted_data)\n",
    "    print(sorted_data)\n",
    "\n",
    "    "
   ]
  },
  {
   "cell_type": "code",
   "execution_count": 24,
   "id": "8b11260b",
   "metadata": {},
   "outputs": [
    {
     "name": "stdout",
     "output_type": "stream",
     "text": [
      "2050.0\n"
     ]
    }
   ],
   "source": [
    "\n",
    "    "
   ]
  },
  {
   "cell_type": "code",
   "execution_count": 4,
   "id": "f88441df",
   "metadata": {},
   "outputs": [
    {
     "name": "stdout",
     "output_type": "stream",
     "text": [
      "9\n"
     ]
    }
   ],
   "source": [
    "values = []\n",
    "for rating, frequency in df[['Rating scale', 'Frequency']].values:\n",
    "    values.extend([rating] * int(frequency))\n",
    "\n",
    "values.sort()\n",
    "median_index = len(values) // 2\n",
    "median = values[median_index] if len(values) % 2 == 1 else (values[median_index - 1] + values[median_index]) / 2\n",
    "print(median)"
   ]
  },
  {
   "cell_type": "code",
   "execution_count": 5,
   "id": "276f87e0",
   "metadata": {},
   "outputs": [
    {
     "ename": "NameError",
     "evalue": "name 'sorted_data' is not defined",
     "output_type": "error",
     "traceback": [
      "\u001b[1;31m---------------------------------------------------------------------------\u001b[0m",
      "\u001b[1;31mNameError\u001b[0m                                 Traceback (most recent call last)",
      "Cell \u001b[1;32mIn[5], line 1\u001b[0m\n\u001b[1;32m----> 1\u001b[0m \u001b[38;5;28;01mfor\u001b[39;00m i \u001b[38;5;129;01min\u001b[39;00m \u001b[43msorted_data\u001b[49m:\n\u001b[0;32m      2\u001b[0m     \u001b[38;5;28;01mif\u001b[39;00m i\u001b[38;5;241m<\u001b[39m\u001b[38;5;241m10\u001b[39m:\n\u001b[0;32m      3\u001b[0m         \u001b[38;5;28;01mif\u001b[39;00m median\u001b[38;5;241m>\u001b[39m\u001b[38;5;241m=\u001b[39msorted_data[i] \u001b[38;5;129;01mand\u001b[39;00m median\u001b[38;5;241m<\u001b[39m\u001b[38;5;241m=\u001b[39msorted_data[i\u001b[38;5;241m+\u001b[39m\u001b[38;5;241m1\u001b[39m]:\n",
      "\u001b[1;31mNameError\u001b[0m: name 'sorted_data' is not defined"
     ]
    }
   ],
   "source": [
    "for i in sorted_data:\n",
    "    if i<10:\n",
    "        if median>=sorted_data[i] and median<=sorted_data[i+1]:\n",
    "            flag=i+1\n",
    "print(median)       "
   ]
  },
  {
   "cell_type": "code",
   "execution_count": null,
   "id": "5e9e1228",
   "metadata": {},
   "outputs": [],
   "source": []
  },
  {
   "cell_type": "code",
   "execution_count": null,
   "id": "7682d955",
   "metadata": {},
   "outputs": [],
   "source": []
  },
  {
   "cell_type": "code",
   "execution_count": null,
   "id": "9b68625e",
   "metadata": {},
   "outputs": [],
   "source": []
  }
 ],
 "metadata": {
  "kernelspec": {
   "display_name": "Python 3 (ipykernel)",
   "language": "python",
   "name": "python3"
  },
  "language_info": {
   "codemirror_mode": {
    "name": "ipython",
    "version": 3
   },
   "file_extension": ".py",
   "mimetype": "text/x-python",
   "name": "python",
   "nbconvert_exporter": "python",
   "pygments_lexer": "ipython3",
   "version": "3.11.3"
  }
 },
 "nbformat": 4,
 "nbformat_minor": 5
}
