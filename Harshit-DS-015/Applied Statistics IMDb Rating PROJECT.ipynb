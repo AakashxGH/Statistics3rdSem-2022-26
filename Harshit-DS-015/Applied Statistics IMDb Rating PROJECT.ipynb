{
 "cells": [
  {
   "cell_type": "code",
   "execution_count": 2,
   "id": "cce518c1",
   "metadata": {},
   "outputs": [
    {
     "data": {
      "text/html": [
       "<div>\n",
       "<style scoped>\n",
       "    .dataframe tbody tr th:only-of-type {\n",
       "        vertical-align: middle;\n",
       "    }\n",
       "\n",
       "    .dataframe tbody tr th {\n",
       "        vertical-align: top;\n",
       "    }\n",
       "\n",
       "    .dataframe thead th {\n",
       "        text-align: right;\n",
       "    }\n",
       "</style>\n",
       "<table border=\"1\" class=\"dataframe\">\n",
       "  <thead>\n",
       "    <tr style=\"text-align: right;\">\n",
       "      <th></th>\n",
       "      <th>Rating</th>\n",
       "      <th>Number of votes</th>\n",
       "    </tr>\n",
       "  </thead>\n",
       "  <tbody>\n",
       "    <tr>\n",
       "      <th>0</th>\n",
       "      <td>10</td>\n",
       "      <td>100000</td>\n",
       "    </tr>\n",
       "    <tr>\n",
       "      <th>1</th>\n",
       "      <td>9</td>\n",
       "      <td>13000</td>\n",
       "    </tr>\n",
       "    <tr>\n",
       "      <th>2</th>\n",
       "      <td>8</td>\n",
       "      <td>9100</td>\n",
       "    </tr>\n",
       "    <tr>\n",
       "      <th>3</th>\n",
       "      <td>7</td>\n",
       "      <td>5500</td>\n",
       "    </tr>\n",
       "    <tr>\n",
       "      <th>4</th>\n",
       "      <td>6</td>\n",
       "      <td>3100</td>\n",
       "    </tr>\n",
       "    <tr>\n",
       "      <th>5</th>\n",
       "      <td>5</td>\n",
       "      <td>1900</td>\n",
       "    </tr>\n",
       "    <tr>\n",
       "      <th>6</th>\n",
       "      <td>4</td>\n",
       "      <td>1000</td>\n",
       "    </tr>\n",
       "    <tr>\n",
       "      <th>7</th>\n",
       "      <td>3</td>\n",
       "      <td>931</td>\n",
       "    </tr>\n",
       "    <tr>\n",
       "      <th>8</th>\n",
       "      <td>2</td>\n",
       "      <td>974</td>\n",
       "    </tr>\n",
       "    <tr>\n",
       "      <th>9</th>\n",
       "      <td>1</td>\n",
       "      <td>6100</td>\n",
       "    </tr>\n",
       "  </tbody>\n",
       "</table>\n",
       "</div>"
      ],
      "text/plain": [
       "   Rating  Number of votes\n",
       "0      10           100000\n",
       "1       9            13000\n",
       "2       8             9100\n",
       "3       7             5500\n",
       "4       6             3100\n",
       "5       5             1900\n",
       "6       4             1000\n",
       "7       3              931\n",
       "8       2              974\n",
       "9       1             6100"
      ]
     },
     "execution_count": 2,
     "metadata": {},
     "output_type": "execute_result"
    }
   ],
   "source": [
    "import pandas as pd\n",
    "IMDb = pd.read_excel(r\"C:\\Users\\indig\\Downloads\\IMDb Record (KGF2).xlsx\")\n",
    "IMDb\n",
    "# A) Here's the frequency distribution of ratings for \"KGF2\" on IMDb:"
   ]
  },
  {
   "cell_type": "code",
   "execution_count": 3,
   "id": "0478e616",
   "metadata": {},
   "outputs": [],
   "source": [
    "# A) Get the Rating and Votes in the list\n",
    "ratings = IMDb[\"Rating\"].tolist()\n",
    "votes = IMDb[\"Number of votes\"].tolist()"
   ]
  },
  {
   "cell_type": "code",
   "execution_count": 21,
   "id": "26dcb24b",
   "metadata": {},
   "outputs": [
    {
     "name": "stdout",
     "output_type": "stream",
     "text": [
      "Arithmetic Mean: 1.8585219448465802\n"
     ]
    }
   ],
   "source": [
    "# A) Frequency Distribution and Arithmetic Mean:\n",
    "Arithmetic_mean = sum(ratings * votes for ratings, votes in zip(ratings, votes)) / sum(votes)\n",
    "print(\"Arithmetic Mean:\", Arithmetic_mean)"
   ]
  },
  {
   "cell_type": "code",
   "execution_count": 6,
   "id": "142a63a6",
   "metadata": {},
   "outputs": [
    {
     "name": "stdout",
     "output_type": "stream",
     "text": [
      "[931, 974, 1000, 1900, 3100, 5500, 6100, 9100, 13000, 100000]\n",
      "Even no. of elements!\n",
      "To find the middle two elements & taking their average to get the median:\n",
      "Median = 5798.0\n"
     ]
    }
   ],
   "source": [
    "# B) Median as a more suitable measure for an overall rating depends on the distribution of ratings\n",
    "votes.sort()\n",
    "print(votes)\n",
    "\n",
    "if len(votes)%2 == 0:\n",
    "    print(\"Even no. of elements!\")\n",
    "    print(\"To find the middle two elements & taking their average to get the median:\")\n",
    "\n",
    "else:\n",
    "    print(\"Odd no. of elements!\")\n",
    "    print(\"To find middle element to get median.\")\n",
    "\n",
    "leng1 = len(votes) \n",
    "\n",
    "if len(votes)%2 == 0:\n",
    "    index1_val = votes[int(leng1 / 2)]\n",
    "    index2_val = votes[int(leng1 / 2) + 1]\n",
    "    median1 = (index1_val + index2_val) / 2 - 2\n",
    "else:\n",
    "    median1 = [votes[int(leng1 / 2)]]\n",
    "print(f'Median = {median1}')"
   ]
  },
  {
   "cell_type": "code",
   "execution_count": 7,
   "id": "5f795697",
   "metadata": {},
   "outputs": [
    {
     "data": {
      "text/html": [
       "<div>\n",
       "<style scoped>\n",
       "    .dataframe tbody tr th:only-of-type {\n",
       "        vertical-align: middle;\n",
       "    }\n",
       "\n",
       "    .dataframe tbody tr th {\n",
       "        vertical-align: top;\n",
       "    }\n",
       "\n",
       "    .dataframe thead th {\n",
       "        text-align: right;\n",
       "    }\n",
       "</style>\n",
       "<table border=\"1\" class=\"dataframe\">\n",
       "  <thead>\n",
       "    <tr style=\"text-align: right;\">\n",
       "      <th></th>\n",
       "      <th>Ratings</th>\n",
       "      <th>No. of votes</th>\n",
       "    </tr>\n",
       "  </thead>\n",
       "  <tbody>\n",
       "    <tr>\n",
       "      <th>0</th>\n",
       "      <td>10</td>\n",
       "      <td>9500</td>\n",
       "    </tr>\n",
       "    <tr>\n",
       "      <th>1</th>\n",
       "      <td>9</td>\n",
       "      <td>4600</td>\n",
       "    </tr>\n",
       "    <tr>\n",
       "      <th>2</th>\n",
       "      <td>8</td>\n",
       "      <td>3500</td>\n",
       "    </tr>\n",
       "    <tr>\n",
       "      <th>3</th>\n",
       "      <td>7</td>\n",
       "      <td>1500</td>\n",
       "    </tr>\n",
       "    <tr>\n",
       "      <th>4</th>\n",
       "      <td>6</td>\n",
       "      <td>487</td>\n",
       "    </tr>\n",
       "    <tr>\n",
       "      <th>5</th>\n",
       "      <td>5</td>\n",
       "      <td>188</td>\n",
       "    </tr>\n",
       "    <tr>\n",
       "      <th>6</th>\n",
       "      <td>4</td>\n",
       "      <td>72</td>\n",
       "    </tr>\n",
       "    <tr>\n",
       "      <th>7</th>\n",
       "      <td>3</td>\n",
       "      <td>47</td>\n",
       "    </tr>\n",
       "    <tr>\n",
       "      <th>8</th>\n",
       "      <td>2</td>\n",
       "      <td>53</td>\n",
       "    </tr>\n",
       "    <tr>\n",
       "      <th>9</th>\n",
       "      <td>1</td>\n",
       "      <td>436</td>\n",
       "    </tr>\n",
       "  </tbody>\n",
       "</table>\n",
       "</div>"
      ],
      "text/plain": [
       "   Ratings  No. of votes\n",
       "0       10          9500\n",
       "1        9          4600\n",
       "2        8          3500\n",
       "3        7          1500\n",
       "4        6           487\n",
       "5        5           188\n",
       "6        4            72\n",
       "7        3            47\n",
       "8        2            53\n",
       "9        1           436"
      ]
     },
     "execution_count": 7,
     "metadata": {},
     "output_type": "execute_result"
    }
   ],
   "source": [
    "# C) Here's the frequency distribution of ratings for \"Jersey\"(\"Orginal Movie\") on IMDb:\n",
    "import pandas as pd\n",
    "Orginal = pd.read_excel(r\"C:\\Users\\indig\\Downloads\\Jersey(Telugu).xlsx\")\n",
    "Orginal"
   ]
  },
  {
   "cell_type": "code",
   "execution_count": 8,
   "id": "1e815d11",
   "metadata": {},
   "outputs": [],
   "source": [
    "# C) Get the Rating and Votes into List of Orginal Movie\n",
    "RatingsOrg = Orginal[\"Ratings\"].tolist()\n",
    "VotesOrg= Orginal[\"No. of votes\"].tolist()"
   ]
  },
  {
   "cell_type": "code",
   "execution_count": 9,
   "id": "33652efc",
   "metadata": {},
   "outputs": [
    {
     "name": "stdout",
     "output_type": "stream",
     "text": [
      "Arithmetic Mean: 8.81778933424913\n"
     ]
    }
   ],
   "source": [
    "# C) The Arithmetic Mean of the Orginal Movie :\n",
    "Arithmetic_mean = sum(RatingsOrg * VotesOrg for RatingsOrg, VotesOrg in zip(RatingsOrg, VotesOrg)) / sum(VotesOrg)\n",
    "print(\"Arithmetic Mean:\", Arithmetic_mean)"
   ]
  },
  {
   "cell_type": "code",
   "execution_count": 10,
   "id": "057f5071",
   "metadata": {},
   "outputs": [
    {
     "name": "stdout",
     "output_type": "stream",
     "text": [
      "[47, 53, 72, 188, 436, 487, 1500, 3500, 4600, 9500]\n",
      "Even no. of elements!\n",
      "To find the middle two elements & taking their average to get the median:\n",
      "Median = 991.5\n"
     ]
    }
   ],
   "source": [
    "# C) The Median of the Orginal Movie :\n",
    "VotesOrg.sort()\n",
    "print(VotesOrg)\n",
    "\n",
    "if len(VotesOrg)%2 == 0:\n",
    "    print(\"Even no. of elements!\")\n",
    "    print(\"To find the middle two elements & taking their average to get the median:\")\n",
    "\n",
    "else:\n",
    "    print(\"Odd no. of elements!\")\n",
    "    print(\"To find middle element to get median.\")\n",
    "\n",
    "leng1 = len(VotesOrg) \n",
    "\n",
    "if len(VotesOrg)%2 == 0:\n",
    "    index1_val = VotesOrg[int(leng1 / 2)]\n",
    "    index2_val = VotesOrg[int(leng1 / 2) + 1]\n",
    "    median1 = (index1_val + index2_val) / 2 - 2\n",
    "else:\n",
    "    median1 = [VotesOrg[int(leng1 / 2)]]\n",
    "print(f'Median = {median1}')"
   ]
  },
  {
   "cell_type": "code",
   "execution_count": 11,
   "id": "5e99082a",
   "metadata": {},
   "outputs": [
    {
     "name": "stdout",
     "output_type": "stream",
     "text": [
      "Standard Deviation: 1.4522950261488716\n"
     ]
    }
   ],
   "source": [
    "# C)The standard deviation of the Orginal Movie :\n",
    "mean = sum(RatingsOrg * VotesOrg for RatingsOrg, VotesOrg in zip(RatingsOrg, VotesOrg)) / sum(VotesOrg)\n",
    "std_dev = (sum(VotesOrg * (RatingsOrg - mean) ** 2 for RatingsOrg, VotesOrg in zip(RatingsOrg, VotesOrg)) / sum(VotesOrg)) ** 0.5\n",
    "print(\"Standard Deviation:\", std_dev)"
   ]
  },
  {
   "cell_type": "code",
   "execution_count": null,
   "id": "8e0f1d06",
   "metadata": {},
   "outputs": [],
   "source": [
    "def std_deviation(data_Asuran):\n",
    "    return variance(data_Asuran) ** 0.5\n",
    "\n",
    "print(\"Standard deviation:\", std_deviation(data_Asuran))"
   ]
  },
  {
   "cell_type": "code",
   "execution_count": 12,
   "id": "56a602ff",
   "metadata": {},
   "outputs": [
    {
     "name": "stdout",
     "output_type": "stream",
     "text": [
      "Interquartile Range (IQR) for the remake: 3428\n"
     ]
    }
   ],
   "source": [
    "# C) The IQR of the Orginal Movie\n",
    "sorted_votes_org = []\n",
    "for num_vote in VotesOrg:\n",
    "    sorted_votes_org.extend([num_vote])\n",
    "\n",
    "sorted_votes_org.sort()\n",
    "\n",
    "# Calculate the first and third quartiles for the remake\n",
    "n = len(sorted_votes_org)\n",
    "q1_index = int(n * 0.25)\n",
    "q3_index = int(n * 0.75)\n",
    "q1 = sorted_votes_org[q1_index]\n",
    "q3 = sorted_votes_org[q3_index]\n",
    "\n",
    "# Calculate the Interquartile Range (IQR) for the remake\n",
    "iqr = q3 - q1\n",
    "print(\"Interquartile Range (IQR) for the remake:\", iqr)"
   ]
  },
  {
   "cell_type": "code",
   "execution_count": 13,
   "id": "7868046d",
   "metadata": {},
   "outputs": [
    {
     "data": {
      "text/html": [
       "<div>\n",
       "<style scoped>\n",
       "    .dataframe tbody tr th:only-of-type {\n",
       "        vertical-align: middle;\n",
       "    }\n",
       "\n",
       "    .dataframe tbody tr th {\n",
       "        vertical-align: top;\n",
       "    }\n",
       "\n",
       "    .dataframe thead th {\n",
       "        text-align: right;\n",
       "    }\n",
       "</style>\n",
       "<table border=\"1\" class=\"dataframe\">\n",
       "  <thead>\n",
       "    <tr style=\"text-align: right;\">\n",
       "      <th></th>\n",
       "      <th>IMDb Rating</th>\n",
       "      <th>Num of votes</th>\n",
       "    </tr>\n",
       "  </thead>\n",
       "  <tbody>\n",
       "    <tr>\n",
       "      <th>0</th>\n",
       "      <td>10</td>\n",
       "      <td>4300</td>\n",
       "    </tr>\n",
       "    <tr>\n",
       "      <th>1</th>\n",
       "      <td>9</td>\n",
       "      <td>1600</td>\n",
       "    </tr>\n",
       "    <tr>\n",
       "      <th>2</th>\n",
       "      <td>8</td>\n",
       "      <td>2300</td>\n",
       "    </tr>\n",
       "    <tr>\n",
       "      <th>3</th>\n",
       "      <td>7</td>\n",
       "      <td>2000</td>\n",
       "    </tr>\n",
       "    <tr>\n",
       "      <th>4</th>\n",
       "      <td>6</td>\n",
       "      <td>884</td>\n",
       "    </tr>\n",
       "    <tr>\n",
       "      <th>5</th>\n",
       "      <td>5</td>\n",
       "      <td>448</td>\n",
       "    </tr>\n",
       "    <tr>\n",
       "      <th>6</th>\n",
       "      <td>4</td>\n",
       "      <td>206</td>\n",
       "    </tr>\n",
       "    <tr>\n",
       "      <th>7</th>\n",
       "      <td>3</td>\n",
       "      <td>142</td>\n",
       "    </tr>\n",
       "    <tr>\n",
       "      <th>8</th>\n",
       "      <td>2</td>\n",
       "      <td>195</td>\n",
       "    </tr>\n",
       "    <tr>\n",
       "      <th>9</th>\n",
       "      <td>1</td>\n",
       "      <td>1900</td>\n",
       "    </tr>\n",
       "  </tbody>\n",
       "</table>\n",
       "</div>"
      ],
      "text/plain": [
       "   IMDb Rating  Num of votes\n",
       "0           10          4300\n",
       "1            9          1600\n",
       "2            8          2300\n",
       "3            7          2000\n",
       "4            6           884\n",
       "5            5           448\n",
       "6            4           206\n",
       "7            3           142\n",
       "8            2           195\n",
       "9            1          1900"
      ]
     },
     "execution_count": 13,
     "metadata": {},
     "output_type": "execute_result"
    }
   ],
   "source": [
    "# C) Here's the frequency distribution of ratings for \"Jersey\"(\"Remake Movie\") on IMDb:\n",
    "import pandas as pd\n",
    "Remake = pd.read_excel(r\"C:\\Users\\indig\\Downloads\\Jersey(Hindi).xlsx\")\n",
    "Remake"
   ]
  },
  {
   "cell_type": "code",
   "execution_count": 14,
   "id": "d41973e8",
   "metadata": {},
   "outputs": [],
   "source": [
    "# C) Get the Rating and Votes into List of Remake Movie\n",
    "RatingRemd = Remake[\"IMDb Rating\"].tolist()\n",
    "VotesRemd = Remake[\"Num of votes\"].tolist()"
   ]
  },
  {
   "cell_type": "code",
   "execution_count": 15,
   "id": "411f319b",
   "metadata": {},
   "outputs": [
    {
     "name": "stdout",
     "output_type": "stream",
     "text": [
      "Arithmetic Mean: 7.218890876565295\n"
     ]
    }
   ],
   "source": [
    "# C) The Arithmetic Mean of the Remake Movie :\n",
    "Arithmetic_mean = sum(RatingRemd * VotesRemd for RatingRemd, VotesRemd in zip(RatingRemd, VotesRemd)) / sum(VotesRemd)\n",
    "print(\"Arithmetic Mean:\", Arithmetic_mean)"
   ]
  },
  {
   "cell_type": "code",
   "execution_count": 16,
   "id": "addb6e19",
   "metadata": {},
   "outputs": [
    {
     "name": "stdout",
     "output_type": "stream",
     "text": [
      "[142, 195, 206, 448, 884, 1600, 1900, 2000, 2300, 4300]\n",
      "Even no. of elements!\n",
      "To find the middle two elements & taking their average to get the median:\n",
      "Median = 1748.0\n"
     ]
    }
   ],
   "source": [
    "# C) The Median of the Remake Movie :\n",
    "VotesRemd.sort()\n",
    "print(VotesRemd)\n",
    "\n",
    "if len(VotesRemd)%2 == 0:\n",
    "    print(\"Even no. of elements!\")\n",
    "    print(\"To find the middle two elements & taking their average to get the median:\")\n",
    "\n",
    "else:\n",
    "    print(\"Odd no. of elements!\")\n",
    "    print(\"To find middle element to get median.\")\n",
    "\n",
    "leng1 = len(VotesRemd) \n",
    "\n",
    "if len(VotesRemd)%2 == 0:\n",
    "    index1_val = VotesRemd[int(leng1 / 2)]\n",
    "    index2_val = VotesRemd[int(leng1 / 2) + 1]\n",
    "    median1 = (index1_val + index2_val) / 2 - 2\n",
    "else:\n",
    "    median1 = [VotesRemd[int(leng1 / 2)]]\n",
    "print(f'Median = {median1}')"
   ]
  },
  {
   "cell_type": "code",
   "execution_count": 17,
   "id": "f229135d",
   "metadata": {},
   "outputs": [
    {
     "name": "stdout",
     "output_type": "stream",
     "text": [
      "Standard Deviation: 6.82020644483448\n"
     ]
    }
   ],
   "source": [
    "# C)The standard deviation of the Remake Movie :\n",
    "mean = sum(RatingRemd * VotesRemd for RatingRemd, VotesRemd in zip(RatingRemd, VotesRemd)) / sum(VotesRemd)\n",
    "std_dev = (sum(VotesRemd * (RatingRemd - mean) ** 2 for RatingRemd, VotesRemd in zip(RatingRemd, votes)) / sum(VotesRemd)) ** 0.5\n",
    "print(\"Standard Deviation:\", std_dev)"
   ]
  },
  {
   "cell_type": "code",
   "execution_count": 18,
   "id": "1fa18274",
   "metadata": {},
   "outputs": [
    {
     "name": "stdout",
     "output_type": "stream",
     "text": [
      "Interquartile Range (IQR) for the remake: 1794\n"
     ]
    }
   ],
   "source": [
    "# C) The IQR of the Remake Movie\n",
    "# Calculate the sorted list of repeated votes for the remake\n",
    "sorted_votes_remd = []\n",
    "for num_vote in VotesRemd:\n",
    "    sorted_votes_remd.extend([num_vote])\n",
    "\n",
    "sorted_votes_remd.sort()\n",
    "\n",
    "# Calculate the first and third quartiles for the remake\n",
    "n = len(sorted_votes_remd)\n",
    "q1_index = int(n * 0.25)\n",
    "q3_index = int(n * 0.75)\n",
    "q1 = sorted_votes_remd[q1_index]\n",
    "q3 = sorted_votes_remd[q3_index]\n",
    "\n",
    "# Calculate the Interquartile Range (IQR) for the remake\n",
    "iqr = q3 - q1\n",
    "print(\"Interquartile Range (IQR) for the remake:\", iqr)"
   ]
  },
  {
   "cell_type": "code",
   "execution_count": null,
   "id": "b149f99b",
   "metadata": {},
   "outputs": [],
   "source": []
  }
 ],
 "metadata": {
  "kernelspec": {
   "display_name": "Python 3 (ipykernel)",
   "language": "python",
   "name": "python3"
  },
  "language_info": {
   "codemirror_mode": {
    "name": "ipython",
    "version": 3
   },
   "file_extension": ".py",
   "mimetype": "text/x-python",
   "name": "python",
   "nbconvert_exporter": "python",
   "pygments_lexer": "ipython3",
   "version": "3.9.13"
  }
 },
 "nbformat": 4,
 "nbformat_minor": 5
}
