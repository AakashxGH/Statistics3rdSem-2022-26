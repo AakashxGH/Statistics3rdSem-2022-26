{
 "cells": [
  {
   "cell_type": "code",
   "execution_count": 37,
   "id": "e26b6eb5",
   "metadata": {},
   "outputs": [
    {
     "name": "stdout",
     "output_type": "stream",
     "text": [
      "   Ratings  frequency\n",
      "0        1        5.5\n",
      "1        2        1.0\n",
      "2        3        1.0\n",
      "3        4        1.6\n",
      "4        5        3.7\n",
      "5        6        8.0\n",
      "6        7       16.1\n",
      "7        8       17.5\n",
      "8        9       11.3\n",
      "9       10       34.4\n"
     ]
    }
   ],
   "source": [
    "import pandas as pd\n",
    "AlaVaikunthapurramuloo=pd.read_csv(r\"C:\\Users\\ridam\\Apply stats\\movie rating 1.csv\")\n",
    "print(AlaVaikunthapurramuloo)"
   ]
  },
  {
   "cell_type": "code",
   "execution_count": 38,
   "id": "89bf9a2f",
   "metadata": {},
   "outputs": [
    {
     "name": "stdout",
     "output_type": "stream",
     "text": [
      "0     5.5\n",
      "1     1.0\n",
      "2     1.0\n",
      "3     1.6\n",
      "4     3.7\n",
      "5     8.0\n",
      "6    16.1\n",
      "7    17.5\n",
      "8    11.3\n",
      "9    34.4\n",
      "Name: frequency, dtype: float64\n"
     ]
    }
   ],
   "source": [
    "frequency=AlaVaikunthapurramuloo[\"frequency\"]\n",
    "print(frequency)\n"
   ]
  },
  {
   "cell_type": "code",
   "execution_count": 39,
   "id": "9bd2c076",
   "metadata": {},
   "outputs": [
    {
     "name": "stdout",
     "output_type": "stream",
     "text": [
      "10.01\n"
     ]
    }
   ],
   "source": [
    "A=frequency.mean()\n",
    "print(A)"
   ]
  },
  {
   "cell_type": "code",
   "execution_count": 40,
   "id": "ae5f7c7a",
   "metadata": {},
   "outputs": [
    {
     "name": "stdout",
     "output_type": "stream",
     "text": [
      "6.75\n"
     ]
    }
   ],
   "source": [
    "M1=frequency.median()\n",
    "print(M1)"
   ]
  },
  {
   "cell_type": "code",
   "execution_count": 41,
   "id": "c3b0677a",
   "metadata": {},
   "outputs": [
    {
     "name": "stdout",
     "output_type": "stream",
     "text": [
      "0    1.0\n",
      "Name: frequency, dtype: float64\n"
     ]
    }
   ],
   "source": [
    "B=frequency.mode()\n",
    "print(B)"
   ]
  },
  {
   "cell_type": "code",
   "execution_count": 42,
   "id": "c5b79fd0",
   "metadata": {},
   "outputs": [
    {
     "name": "stdout",
     "output_type": "stream",
     "text": [
      "   ratings  frquency\n",
      "0        1       8.2\n",
      "1        2       1.5\n",
      "2        3       1.4\n",
      "3        4       1.7\n",
      "4        5       2.2\n",
      "5        6       1.9\n",
      "6        7       1.5\n",
      "7        8       4.2\n",
      "8        9      25.3\n",
      "9       10      52.2\n"
     ]
    }
   ],
   "source": [
    "Shehzada=pd.read_csv(r\"C:\\Users\\ridam\\Apply stats\\movie 2.csv\")\n",
    "print(Shehzada)"
   ]
  },
  {
   "cell_type": "code",
   "execution_count": 43,
   "id": "4d608c4d",
   "metadata": {},
   "outputs": [
    {
     "name": "stdout",
     "output_type": "stream",
     "text": [
      "0     8.2\n",
      "1     1.5\n",
      "2     1.4\n",
      "3     1.7\n",
      "4     2.2\n",
      "5     1.9\n",
      "6     1.5\n",
      "7     4.2\n",
      "8    25.3\n",
      "9    52.2\n",
      "Name: frquency, dtype: float64\n"
     ]
    }
   ],
   "source": [
    "frequency=Shehzada[\"frquency\"]\n",
    "print(frequency)"
   ]
  },
  {
   "cell_type": "code",
   "execution_count": 44,
   "id": "dc08cc9f",
   "metadata": {},
   "outputs": [
    {
     "name": "stdout",
     "output_type": "stream",
     "text": [
      "10.01\n"
     ]
    }
   ],
   "source": [
    "K=frequency.mean()\n",
    "print(K)"
   ]
  },
  {
   "cell_type": "code",
   "execution_count": 45,
   "id": "65117893",
   "metadata": {},
   "outputs": [
    {
     "name": "stdout",
     "output_type": "stream",
     "text": [
      "2.05\n"
     ]
    }
   ],
   "source": [
    "M2=frequency.median()\n",
    "print(M2)"
   ]
  },
  {
   "cell_type": "code",
   "execution_count": 46,
   "id": "1c47443b",
   "metadata": {},
   "outputs": [
    {
     "name": "stdout",
     "output_type": "stream",
     "text": [
      "0    1.5\n",
      "Name: frquency, dtype: float64\n"
     ]
    }
   ],
   "source": [
    "Z=frequency.mode()\n",
    "print(Z)"
   ]
  },
  {
   "cell_type": "code",
   "execution_count": 49,
   "id": "7db146c0",
   "metadata": {},
   "outputs": [
    {
     "data": {
      "text/html": [
       "<div>\n",
       "<style scoped>\n",
       "    .dataframe tbody tr th:only-of-type {\n",
       "        vertical-align: middle;\n",
       "    }\n",
       "\n",
       "    .dataframe tbody tr th {\n",
       "        vertical-align: top;\n",
       "    }\n",
       "\n",
       "    .dataframe thead th {\n",
       "        text-align: right;\n",
       "    }\n",
       "</style>\n",
       "<table border=\"1\" class=\"dataframe\">\n",
       "  <thead>\n",
       "    <tr style=\"text-align: right;\">\n",
       "      <th></th>\n",
       "      <th>mean</th>\n",
       "      <th>median</th>\n",
       "      <th>mode</th>\n",
       "    </tr>\n",
       "  </thead>\n",
       "  <tbody>\n",
       "    <tr>\n",
       "      <th>movie1</th>\n",
       "      <td>10.01</td>\n",
       "      <td>6.75</td>\n",
       "      <td>0    1.0\n",
       "Name: frequency, dtype: float64</td>\n",
       "    </tr>\n",
       "    <tr>\n",
       "      <th>movie2</th>\n",
       "      <td>10.01</td>\n",
       "      <td>2.05</td>\n",
       "      <td>0    1.5\n",
       "Name: frquency, dtype: float64</td>\n",
       "    </tr>\n",
       "  </tbody>\n",
       "</table>\n",
       "</div>"
      ],
      "text/plain": [
       "         mean  median                                      mode\n",
       "movie1  10.01    6.75  0    1.0\n",
       "Name: frequency, dtype: float64\n",
       "movie2  10.01    2.05   0    1.5\n",
       "Name: frquency, dtype: float64"
      ]
     },
     "execution_count": 49,
     "metadata": {},
     "output_type": "execute_result"
    }
   ],
   "source": [
    "import matplotlib.pyplot as plt\n",
    "data=[[A,M1,B],\n",
    "     [K,M2,Z]]\n",
    "\n",
    "df=pd.DataFrame(data, index=['movie1','movie2'],columns=['mean','median','mode'])\n",
    "df"
   ]
  },
  {
   "cell_type": "code",
   "execution_count": 50,
   "id": "2a5bab38",
   "metadata": {},
   "outputs": [
    {
     "data": {
      "text/plain": [
       "<AxesSubplot: title={'center': 'ratings'}>"
      ]
     },
     "execution_count": 50,
     "metadata": {},
     "output_type": "execute_result"
    },
    {
     "data": {
      "image/png": "[encoded data removed]",
      "text/plain": [
       "<Figure size 640x480 with 1 Axes>"
      ]
     },
     "metadata": {},
     "output_type": "display_data"
    }
   ],
   "source": [
    "df.plot(kind='bar',title='ratings')"
   ]
  },
  {
   "cell_type": "code",
   "execution_count": null,
   "id": "ce052b57",
   "metadata": {},
   "outputs": [],
   "source": []
  }
 ],
 "metadata": {
  "kernelspec": {
   "display_name": "Python 3 (ipykernel)",
   "language": "python",
   "name": "python3"
  },
  "language_info": {
   "codemirror_mode": {
    "name": "ipython",
    "version": 3
   },
   "file_extension": ".py",
   "mimetype": "text/x-python",
   "name": "python",
   "nbconvert_exporter": "python",
   "pygments_lexer": "ipython3",
   "version": "3.9.13"
  }
 },
 "nbformat": 4,
 "nbformat_minor": 5
}
